{
 "cells": [
  {
   "cell_type": "code",
   "execution_count": 1,
   "id": "ca9f4a70",
   "metadata": {
    "tags": []
   },
   "outputs": [],
   "source": [
    "import ee"
   ]
  },
  {
   "cell_type": "code",
   "execution_count": 1,
   "id": "4a45690d",
   "metadata": {},
   "outputs": [],
   "source": [
    "def generate_collection(plot):\n",
    "    \n",
    "    # Extract geometry and plot id\n",
    "    plot = ee.Feature(plot)\n",
    "    roi = plot.geometry()\n",
    "    plot_id = plot.get('codigo_con')\n",
    "    \n",
    "    # Select the first image that covers the plot, the timerange, and both polarizations\n",
    "    orbit_det = ee.Image(ee.ImageCollection('COPERNICUS/S1_GRD')\n",
    "                         .filterBounds(roi)\n",
    "                         .filterDate(ee.Date('2017-01-01'), ee.Date('2022-12-31'))\n",
    "                         .filter(ee.Filter.listContains('transmitterReceiverPolarisation', 'VH'))\n",
    "                         .first())\n",
    " \n",
    "    # Extract node\n",
    "    orbit_node = orbit_det.get('orbitProperties_pass')\n",
    "    # Extract relative orbit number\n",
    "    orbit_num = orbit_det.get('relativeOrbitNumber_start')\n",
    "    \n",
    "    # Build relevant Image Collection\n",
    "    s1_coll = (ee.ImageCollection('COPERNICUS/S1_GRD')\n",
    "               .filterBounds(roi)\n",
    "               .filterDate(ee.Date('2017-01-01'), ee.Date('2022-12-31'))\n",
    "               .filter(ee.Filter.listContains('transmitterReceiverPolarisation', 'VH'))\n",
    "               .filter(ee.Filter.eq('orbitProperties_pass', orbit_node))\n",
    "               .filter(ee.Filter.eq('relativeOrbitNumber_start', orbit_num))\n",
    "               .map(lambda img: img.set('date', ee.Date(img.date()).format('YYYYMMdd')))\n",
    "               .sort('date')\n",
    "               .map(lambda img: img.clip(roi)))\n",
    "    \n",
    "    # function to create a list of yearly image collections\n",
    "    def list_of_yearly_coll(year):\n",
    "        return s1_coll.filterDate(start_list.get(year), end_list.get(year))\n",
    "    \n",
    "    list_yr_coll = year_list.map(list_of_yearly_coll)\n",
    " \n",
    "    # function to extract the first image of every month from a yearly image collection\n",
    "    def monthly_ts(year):\n",
    "        yearly_coll = ee.ImageCollection(list_yr_coll.get(year))\n",
    "        return month_list.map(lambda m: yearly_coll.filter(ee.Filter.calendarRange(m,m,'month')).first())\n",
    "    \n",
    "    # Create monthly time series over all six years\n",
    "    ts = year_list.map(monthly_ts).flatten()\n",
    "    \n",
    "    # Create image collection\n",
    "    ts_coll = ee.ImageCollection.fromImages(ts)\n",
    "    \n",
    "    # Create list of images to analyze (back and forth conversion eliminates NAs)\n",
    "    ts_list = ts_coll.toList(ts_coll.size()) \n",
    "    \n",
    "    # Generate timestamps\n",
    "    timestamplist = (ee.List((ts_coll.aggregate_array('date').map(lambda d: ee.String('T').cat(ee.String(d)))))\n",
    "                     .splice(start = 0, count = 1))\n",
    "    \n",
    "    # Run algorithm at 5% significance\n",
    "    result = ee.Dictionary(change_maps(ts_list, median=True, alpha=0.05))\n",
    "    \n",
    "    # Extract the bmap image, add plot id and rename bands\n",
    "    bmap = ee.Image(result.get('bmap')).set('plot_id', plot_id).rename(timestamplist)\n",
    "    \n",
    "    # Export the generated image\n",
    "    assetexport = ee.batch.Export.image.toAsset(bmap,\n",
    "                                                description='assetExportTask',\n",
    "                                                pyramidingPolicy={\".default\":'sample'},\n",
    "                                                assetId='users/peterkamal/change_detection', \n",
    "                                                scale=10, maxPixels=1e9)\n",
    "    \n",
    "    return assetexport.start()"
   ]
  },
  {
   "cell_type": "code",
   "execution_count": null,
   "id": "d4505dc7-e5e0-4716-bd14-ab2aca092f7f",
   "metadata": {},
   "outputs": [],
   "source": []
  }
 ],
 "metadata": {
  "kernelspec": {
   "display_name": "Python 3 (ipykernel)",
   "language": "python",
   "name": "python3"
  },
  "language_info": {
   "codemirror_mode": {
    "name": "ipython",
    "version": 3
   },
   "file_extension": ".py",
   "mimetype": "text/x-python",
   "name": "python",
   "nbconvert_exporter": "python",
   "pygments_lexer": "ipython3",
   "version": "3.10.6"
  }
 },
 "nbformat": 4,
 "nbformat_minor": 5
}

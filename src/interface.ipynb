{
 "cells": [
  {
   "cell_type": "markdown",
   "metadata": {},
   "source": [
    "## SAR Change Detection Widget Interface "
   ]
  },
  {
   "cell_type": "code",
   "execution_count": 2,
   "metadata": {},
   "outputs": [
    {
     "data": {
      "text/html": [
       "<p>To authorize access needed by Earth Engine, open the following\n",
       "        URL in a web browser and follow the instructions:</p>\n",
       "        <p><a href=https://code.earthengine.google.com/client-auth?scopes=https%3A//www.googleapis.com/auth/earthengine%20https%3A//www.googleapis.com/auth/devstorage.full_control&request_id=NES986ymL2W41EoLjjIzakN0qzFOQd2lUxiL-BOA-QU&tc=MIrxY0WnvDe6v44iC9xRK8CBgAuzDH25XJUio82tv4o&cc=4wmTbnVn6t51AJDv2bU1788LvcyQ6tSfpAIpgmvHX98>https://code.earthengine.google.com/client-auth?scopes=https%3A//www.googleapis.com/auth/earthengine%20https%3A//www.googleapis.com/auth/devstorage.full_control&request_id=NES986ymL2W41EoLjjIzakN0qzFOQd2lUxiL-BOA-QU&tc=MIrxY0WnvDe6v44iC9xRK8CBgAuzDH25XJUio82tv4o&cc=4wmTbnVn6t51AJDv2bU1788LvcyQ6tSfpAIpgmvHX98</a></p>\n",
       "        <p>The authorization workflow will generate a code, which you should paste in the box below.</p>\n",
       "        "
      ],
      "text/plain": [
       "<IPython.core.display.HTML object>"
      ]
     },
     "metadata": {},
     "output_type": "display_data"
    },
    {
     "name": "stdin",
     "output_type": "stream",
     "text": [
      "Enter verification code:  4/1AfJohXk4aVl2AwAWSe158VQfjhJgzRcgiUyQJS2ErFI-XYw5CuRwet7cJNs\n"
     ]
    },
    {
     "name": "stdout",
     "output_type": "stream",
     "text": [
      "\n",
      "Successfully saved authorization token.\n"
     ]
    }
   ],
   "source": [
    "# Authenticate (just first time)\n",
    "import ee\n",
    "ee.Authenticate()"
   ]
  },
  {
   "cell_type": "code",
   "execution_count": 1,
   "metadata": {
    "id": "aj5YdExCggWy"
   },
   "outputs": [
    {
     "data": {
      "application/vnd.jupyter.widget-view+json": {
       "model_id": "a59a82a4349b427aaa2b920e9f0b0de5",
       "version_major": 2,
       "version_minor": 0
      },
      "text/plain": [
       "Map(center=[29.7589382, -95.3676974], controls=(DrawControl(options=['position'], polygon={'shapeOptions': {'f…"
      ]
     },
     "metadata": {},
     "output_type": "display_data"
    },
    {
     "data": {
      "application/vnd.jupyter.widget-view+json": {
       "model_id": "6d86d91c47fd401cb527a2634bb3194f",
       "version_major": 2,
       "version_minor": 0
      },
      "text/plain": [
       "VBox(children=(HBox(children=(RadioButtons(description='Platform:', index=1, layout=Layout(width='200px'), opt…"
      ]
     },
     "execution_count": 1,
     "metadata": {},
     "output_type": "execute_result"
    }
   ],
   "source": [
    "## Run the interface.\n",
    "import ee\n",
    "ee.Initialize()\n",
    "from eesar.application import run\n",
    "run()"
   ]
  },
  {
   "cell_type": "markdown",
   "metadata": {},
   "source": [
    "### Getting Started\n",
    "(Boldface text refers to specific widgets or widget groups)\n",
    "1. **GoTo** wherever you like\n",
    "2. Choose a time interval **StartDate EndDate** in format YYYY-MM-DD \n",
    "3. Select area(s) of interest (AOI) with the Rectange or Polygon tool, map upper left\n",
    "4. Choose **Platform** **A** or **B** or **Both** (Sentinel1-B died in December, 2021)\n",
    "5. Choose an orbit **Pass** **ASCENDING** or **DESCENDING**\n",
    "7. Choose a **Rel**ative**Orbit** (leave at 0 if you don't know)\n",
    "8. Choose a **Signif**icance (or false positive probability)\n",
    "9. Choose a **Stride**$>$1 if you wish to skip over acquisitions\n",
    "10. Check **MedianFilter** to use the median of 3x3 pixel neighborhoods\n",
    "11. Press **Collect** to gather the corresponding time sequence and prepare the algorithm\n",
    "12. When the overlay appears, **Preview** the changes (i.e. run the algorithm in your current runtime)\n",
    "13. If you wish, **Export**your result**ToAssets/ToDrive** to run the algorithm in the background\n",
    "14. If you jump to another AOI, don't forget to clear the current one\n",
    "\n",
    "### Previewing\n",
    "1. Examine individual **Bitemporal** change maps for a chosen **BitempInt**erval\n",
    "2. Examine the color-coded time of the **First** significant change\n",
    "3. Examine the color-coded time of the **Last** significant change\n",
    "4. Examine the color-coded **Frequency** of changes over range **MinFreq** to **MaxFreq**\n",
    "5. **Plot** the relative intensities of changes for the entire interval (only for **ReviewAsset**, see below)\n",
    "6. Display the **A**daptive **T**emporal **S**patial **F**ilter of the time series\n",
    "7. Overlay the most cloud-free **S**entinel**2** RGB image in the chosen time interval\n",
    "8. Overlay a recent (circa 2022) **NAIP** NIRGB image \n",
    "9. **Reset** to erase all previewed layers\n",
    "\n",
    "### Masks\n",
    "1. **NCMask** renders no-change pixels tranparent\n",
    "2. **WaterMask** suppresses all change pixels over water surfaces\n",
    "3. **NoBuildingsMask** ditto for regions outside settled areas\n",
    "4. **QuickPreview** runs the algorithm at the displayed map scale (approximate but faster)   \n",
    "   \n",
    "### Reviewing Exported Assets\n",
    "\n",
    "Exporting to GEE Assets is generally necessary for longer time series. \n",
    "\n",
    "When the export is concluded,\n",
    "**ReviewAsset** works the same as **Preview** (except **ATSF** is not available).  **S2** and **NAIP** can be overlayed from **Preview** if an AOI is chosen\n",
    "\n",
    "\n",
    "   \n"
   ]
  },
  {
   "cell_type": "code",
   "execution_count": null,
   "metadata": {},
   "outputs": [],
   "source": []
  }
 ],
 "metadata": {
  "colab": {
   "collapsed_sections": [],
   "name": "Tutorial_pt_4.ipynb",
   "provenance": []
  },
  "kernelspec": {
   "display_name": "Python 3 (ipykernel)",
   "language": "python",
   "name": "python3"
  },
  "language_info": {
   "codemirror_mode": {
    "name": "ipython",
    "version": 3
   },
   "file_extension": ".py",
   "mimetype": "text/x-python",
   "name": "python",
   "nbconvert_exporter": "python",
   "pygments_lexer": "ipython3",
   "version": "3.10.12"
  }
 },
 "nbformat": 4,
 "nbformat_minor": 4
}

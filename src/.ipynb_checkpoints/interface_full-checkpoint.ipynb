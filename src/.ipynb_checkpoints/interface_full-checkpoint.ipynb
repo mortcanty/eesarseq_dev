{
 "cells": [
  {
   "cell_type": "markdown",
   "metadata": {},
   "source": [
    "## Widget Interface "
   ]
  },
  {
   "cell_type": "code",
   "execution_count": 1,
   "metadata": {
    "id": "aj5YdExCggWy",
    "scrolled": false
   },
   "outputs": [
    {
     "data": {
      "application/vnd.jupyter.widget-view+json": {
       "model_id": "fd91e8c14e8b4aa0b8d415ba519ee0cf",
       "version_major": 2,
       "version_minor": 0
      },
      "text/plain": [
       "Map(center=[51.0, 6.4], controls=(DrawControl(options=['position'], polygon={'shapeOptions': {'fillColor': '#0…"
      ]
     },
     "metadata": {},
     "output_type": "display_data"
    },
    {
     "data": {
      "application/vnd.jupyter.widget-view+json": {
       "model_id": "ee8d8a948e1a4d388b28025d9e685f01",
       "version_major": 2,
       "version_minor": 0
      },
      "text/plain": [
       "VBox(children=(HBox(children=(RadioButtons(description='Platform:', index=1, layout=Layout(width='200px'), opt…"
      ]
     },
     "metadata": {},
     "output_type": "display_data"
    }
   ],
   "source": [
    "## Run the interface.\n",
    "import ee\n",
    "ee.Initialize()\n",
    "from eesar.application_full_class import run\n",
    "run()"
   ]
  },
  {
   "cell_type": "markdown",
   "metadata": {},
   "source": [
    "Classifying time sequence of 50 polarimetric bands ...\n",
    "Results of trained classifier {'classes': [0, 1], 'priors': [0.4994070282753886, 0.5005929717246115]}\n",
    "Training error matrix [[7375, 626], [2192, 5828]]\n",
    "Training overall accuracy 0.8241058610573622\n",
    "Exporting crop map to contract/sugarland_2017\n",
    " task id: GGIEXKEQLGFHS23RF2CV6SH3"
   ]
  }
 ],
 "metadata": {
  "colab": {
   "collapsed_sections": [],
   "name": "Tutorial_pt_4.ipynb",
   "provenance": []
  },
  "kernelspec": {
   "display_name": "Python 3",
   "language": "python",
   "name": "python3"
  },
  "language_info": {
   "codemirror_mode": {
    "name": "ipython",
    "version": 3
   },
   "file_extension": ".py",
   "mimetype": "text/x-python",
   "name": "python",
   "nbconvert_exporter": "python",
   "pygments_lexer": "ipython3",
   "version": "3.8.5"
  }
 },
 "nbformat": 4,
 "nbformat_minor": 1
}

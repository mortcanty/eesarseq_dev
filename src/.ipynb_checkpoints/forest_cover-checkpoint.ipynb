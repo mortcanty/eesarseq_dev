{
 "cells": [
  {
   "cell_type": "markdown",
   "id": "72dab0e4",
   "metadata": {},
   "source": [
    "## SAR Forest Cover Widget Interface"
   ]
  },
  {
   "cell_type": "code",
   "execution_count": null,
   "id": "007bdb00",
   "metadata": {},
   "outputs": [],
   "source": [
    "# Authenticate (just first time)\n",
    "import ee\n",
    "ee.Authenticate()"
   ]
  },
  {
   "cell_type": "code",
   "execution_count": 1,
   "id": "96770d5c",
   "metadata": {
    "scrolled": false
   },
   "outputs": [
    {
     "data": {
      "application/vnd.jupyter.widget-view+json": {
       "model_id": "459f3fa75a3a49489913b1dbc9d08e00",
       "version_major": 2,
       "version_minor": 0
      },
      "text/plain": [
       "Map(center=[51.0, 6.4], controls=(DrawControl(options=['position'], polygon={'shapeOptions': {}}, polyline={'s…"
      ]
     },
     "metadata": {},
     "output_type": "display_data"
    },
    {
     "data": {
      "application/vnd.jupyter.widget-view+json": {
       "model_id": "06c884b98ced46f0844a324de4016ad0",
       "version_major": 2,
       "version_minor": 0
      },
      "text/plain": [
       "VBox(children=(HBox(children=(RadioButtons(description='Platform:', layout=Layout(width='200px'), options=('Bo…"
      ]
     },
     "execution_count": 1,
     "metadata": {},
     "output_type": "execute_result"
    }
   ],
   "source": [
    "# Run the interface.\n",
    "import ee\n",
    "ee.Initialize()\n",
    "from eesar.forest import run\n",
    "run()"
   ]
  },
  {
   "cell_type": "code",
   "execution_count": null,
   "id": "45f480e2",
   "metadata": {},
   "outputs": [],
   "source": []
  }
 ],
 "metadata": {
  "kernelspec": {
   "display_name": "Python 3 (ipykernel)",
   "language": "python",
   "name": "python3"
  },
  "language_info": {
   "codemirror_mode": {
    "name": "ipython",
    "version": 3
   },
   "file_extension": ".py",
   "mimetype": "text/x-python",
   "name": "python",
   "nbconvert_exporter": "python",
   "pygments_lexer": "ipython3",
   "version": "3.10.6"
  }
 },
 "nbformat": 4,
 "nbformat_minor": 5
}

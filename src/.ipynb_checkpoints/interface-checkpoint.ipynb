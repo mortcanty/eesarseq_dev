{
 "cells": [
  {
   "cell_type": "markdown",
   "metadata": {},
   "source": [
    "## SAR Change Detection Widget Interface "
   ]
  },
  {
   "cell_type": "code",
   "execution_count": 3,
   "metadata": {},
   "outputs": [
    {
     "data": {
      "text/html": [
       "<p>To authorize access needed by Earth Engine, open the following\n",
       "        URL in a web browser and follow the instructions:</p>\n",
       "        <p><a href=https://code.earthengine.google.com/client-auth?scopes=https%3A//www.googleapis.com/auth/earthengine%20https%3A//www.googleapis.com/auth/devstorage.full_control&request_id=JcgJnbACXn06nrztKLZ7Skwbn5BImlihxCgm0PKuwe4&tc=E9-naxtOxY1iKkDmBn34gOLEO9IPNFzFGyEAqtjYi8w&cc=6uSw6tTG3QcxUnZyZ9HsRhJp8fQbScJ32BC35YXc6I8>https://code.earthengine.google.com/client-auth?scopes=https%3A//www.googleapis.com/auth/earthengine%20https%3A//www.googleapis.com/auth/devstorage.full_control&request_id=JcgJnbACXn06nrztKLZ7Skwbn5BImlihxCgm0PKuwe4&tc=E9-naxtOxY1iKkDmBn34gOLEO9IPNFzFGyEAqtjYi8w&cc=6uSw6tTG3QcxUnZyZ9HsRhJp8fQbScJ32BC35YXc6I8</a></p>\n",
       "        <p>The authorization workflow will generate a code, which you should paste in the box below.</p>\n",
       "        "
      ],
      "text/plain": [
       "<IPython.core.display.HTML object>"
      ]
     },
     "metadata": {},
     "output_type": "display_data"
    },
    {
     "name": "stdin",
     "output_type": "stream",
     "text": [
      "Enter verification code:  4/1Adeu5BVjKFEsN18LzRM1VAJQskq2vvmvyLbKjotdps-M2UOcAkiG8IDZXHI\n"
     ]
    },
    {
     "name": "stdout",
     "output_type": "stream",
     "text": [
      "\n",
      "Successfully saved authorization token.\n"
     ]
    }
   ],
   "source": [
    "# Authenticate (just first time)\n",
    "import ee\n",
    "ee.Authenticate()"
   ]
  },
  {
   "cell_type": "code",
   "execution_count": 1,
   "metadata": {
    "id": "aj5YdExCggWy"
   },
   "outputs": [
    {
     "data": {
      "application/vnd.jupyter.widget-view+json": {
       "model_id": "744ff2fc2d3e4105a37636850ffa52fb",
       "version_major": 2,
       "version_minor": 0
      },
      "text/plain": [
       "Map(center=[46.4843023, 30.7322878], controls=(DrawControl(options=['position'], polygon={'shapeOptions': {'fi…"
      ]
     },
     "metadata": {},
     "output_type": "display_data"
    },
    {
     "data": {
      "application/vnd.jupyter.widget-view+json": {
       "model_id": "1ccef652cf5e40d49410f15182697c8b",
       "version_major": 2,
       "version_minor": 0
      },
      "text/plain": [
       "VBox(children=(HBox(children=(RadioButtons(description='Platform:', index=1, layout=Layout(width='200px'), opt…"
      ]
     },
     "execution_count": 1,
     "metadata": {},
     "output_type": "execute_result"
    }
   ],
   "source": [
    "## Run the interface.\n",
    "import ee\n",
    "ee.Initialize()\n",
    "from eesar.application import run\n",
    "run()"
   ]
  },
  {
   "cell_type": "markdown",
   "metadata": {},
   "source": [
    "### Getting Started\n",
    "1. **GoTo** wherever you like\n",
    "2. Choose a time interval **StartDate EndDate** in format YYY-MM-DD \n",
    "3. Select area(s) of interest (AOI) with the Rectange or Polygon tool, map upper left\n",
    "4. Choose **Platform** **A** or **B** (Sentinel1-B died in December, 2021)\n",
    "5. Choose an orbit **Pass** ASCENDING/DESCENDING\n",
    "7. Choose a **Rel**ative**Orbit** (leave at 0 if you don't know)\n",
    "8. Choose a **Signif**icance (or false positive probability)\n",
    "9. Choose a **Stride**$>$1 if you wish to skip over acquisitions\n",
    "10. Check **MedianFilter** to use the median of 3x3 pixel neighborhoods\n",
    "11. Press **Collect** to gather the corresponding time sequence and assemble the algorithm\n",
    "12. When the overlay appears, **Preview** the changes (i.e. run the algorithm in your current runtime)\n",
    "13. If you wish, **Export**your result**ToAssets/ToDrive** to run the algorithm in the background\n",
    "14. If you jump to another AOI, don't forget to clear the current one\n",
    "\n",
    "### Previewing\n",
    "1. Examine individual **Bitemporal** change maps for a chosen **Interval**\n",
    "2. Examine the color-coded time of the **First** significant change\n",
    "3. Examine the color-coded time of the **Last** significant change\n",
    "4. Examine the color-coded **Frequency** of changes over range **MinFreq** to **MaxFreq**\n",
    "5. **Plot** the relative intensities of changes for the entire interval (only for **ReviewAsset**, see below)\n",
    "6. Display the **A**daptive **T**emporal **S**patial **F**ilter of the time series\n",
    "7. Overlay the most cloud-free **S**entinel**2** RGB image in the chosen time inetrval\n",
    "8. **Reset** to erase all previewed layers\n",
    "\n",
    "### Masks\n",
    "1. **NCMask** renders no-chamge pixles tranparent\n",
    "2. **WaterMask** suppresses all change pixels over water surfaces\n",
    "3. **NoBuildingsMask** ditto for regions outside settled areas\n",
    "4. **QuickPreview** runs the algorithm at the displayed map scale (approximate but faster)   \n",
    "   \n",
    "### Reviewing Exported Assets\n",
    "Analysis of longer time series must generally be exported to run to completion on the GEE Servers.\n",
    "\n",
    "**ReviewAsset** works same as **Preview**, but **ATSF** and **S2** are not available\n",
    "\n",
    "\n",
    "   \n"
   ]
  },
  {
   "cell_type": "code",
   "execution_count": null,
   "metadata": {},
   "outputs": [],
   "source": []
  }
 ],
 "metadata": {
  "colab": {
   "collapsed_sections": [],
   "name": "Tutorial_pt_4.ipynb",
   "provenance": []
  },
  "kernelspec": {
   "display_name": "Python 3 (ipykernel)",
   "language": "python",
   "name": "python3"
  },
  "language_info": {
   "codemirror_mode": {
    "name": "ipython",
    "version": 3
   },
   "file_extension": ".py",
   "mimetype": "text/x-python",
   "name": "python",
   "nbconvert_exporter": "python",
   "pygments_lexer": "ipython3",
   "version": "3.10.12"
  }
 },
 "nbformat": 4,
 "nbformat_minor": 4
}

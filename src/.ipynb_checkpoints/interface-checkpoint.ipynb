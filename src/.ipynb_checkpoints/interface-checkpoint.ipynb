{
 "cells": [
  {
   "cell_type": "markdown",
   "metadata": {},
   "source": [
    "## SAR Change Detection Widget Interface "
   ]
  },
  {
   "cell_type": "code",
   "execution_count": 2,
   "metadata": {},
   "outputs": [
    {
     "data": {
      "text/html": [
       "<p>To authorize access needed by Earth Engine, open the following\n",
       "        URL in a web browser and follow the instructions:</p>\n",
       "        <p><a href=https://code.earthengine.google.com/client-auth?scopes=https%3A//www.googleapis.com/auth/earthengine%20https%3A//www.googleapis.com/auth/devstorage.full_control&request_id=7JMwopTN80BeaVPf28SSDhyRXpmTPIvnfgn17zipIdM&tc=PLKi8vswUrrHdDOgYx-h_cL3Wz1dYnmtoObC4VNKWC8&cc=UoQIE1Uz8Koj7DHWaUPSZgs0JN64qE3ZNCFmDucHHiE>https://code.earthengine.google.com/client-auth?scopes=https%3A//www.googleapis.com/auth/earthengine%20https%3A//www.googleapis.com/auth/devstorage.full_control&request_id=7JMwopTN80BeaVPf28SSDhyRXpmTPIvnfgn17zipIdM&tc=PLKi8vswUrrHdDOgYx-h_cL3Wz1dYnmtoObC4VNKWC8&cc=UoQIE1Uz8Koj7DHWaUPSZgs0JN64qE3ZNCFmDucHHiE</a></p>\n",
       "        <p>The authorization workflow will generate a code, which you should paste in the box below.</p>\n",
       "        "
      ],
      "text/plain": [
       "<IPython.core.display.HTML object>"
      ]
     },
     "metadata": {},
     "output_type": "display_data"
    },
    {
     "name": "stdin",
     "output_type": "stream",
     "text": [
      "Enter verification code:  4/1AbUR2VNlhtjRY5rYHyVypnthV6Cg6LVRxnH3KCe9hR2TtNepZ46gGUkihHM\n"
     ]
    },
    {
     "name": "stdout",
     "output_type": "stream",
     "text": [
      "\n",
      "Successfully saved authorization token.\n"
     ]
    }
   ],
   "source": [
    "# Authenticate (just first time)\n",
    "import ee\n",
    "ee.Authenticate()"
   ]
  },
  {
   "cell_type": "code",
   "execution_count": 1,
   "metadata": {
    "id": "aj5YdExCggWy"
   },
   "outputs": [
    {
     "data": {
      "application/vnd.jupyter.widget-view+json": {
       "model_id": "229864e26ef84b0ebd01d2345d64cbd1",
       "version_major": 2,
       "version_minor": 0
      },
      "text/plain": [
       "Map(center=[50.9220931, 6.3611015], controls=(DrawControl(options=['position'], polygon={'shapeOptions': {'fil…"
      ]
     },
     "metadata": {},
     "output_type": "display_data"
    },
    {
     "data": {
      "application/vnd.jupyter.widget-view+json": {
       "model_id": "76daf1aaa82c41e1a168afaca50c2b6e",
       "version_major": 2,
       "version_minor": 0
      },
      "text/plain": [
       "VBox(children=(HBox(children=(RadioButtons(description='Platform:', index=1, layout=Layout(width='200px'), opt…"
      ]
     },
     "execution_count": 1,
     "metadata": {},
     "output_type": "execute_result"
    }
   ],
   "source": [
    "## Run the interface.\n",
    "import ee\n",
    "ee.Initialize()\n",
    "from eesar.application import run\n",
    "run()"
   ]
  },
  {
   "cell_type": "code",
   "execution_count": null,
   "metadata": {},
   "outputs": [],
   "source": []
  }
 ],
 "metadata": {
  "colab": {
   "collapsed_sections": [],
   "name": "Tutorial_pt_4.ipynb",
   "provenance": []
  },
  "kernelspec": {
   "display_name": "Python 3 (ipykernel)",
   "language": "python",
   "name": "python3"
  },
  "language_info": {
   "codemirror_mode": {
    "name": "ipython",
    "version": 3
   },
   "file_extension": ".py",
   "mimetype": "text/x-python",
   "name": "python",
   "nbconvert_exporter": "python",
   "pygments_lexer": "ipython3",
   "version": "3.10.6"
  }
 },
 "nbformat": 4,
 "nbformat_minor": 4
}
